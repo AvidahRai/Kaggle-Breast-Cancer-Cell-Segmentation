{
 "cells": [
  {
   "cell_type": "code",
   "execution_count": 1,
   "source": [
    "import os, math\r\n",
    "import shutil"
   ],
   "outputs": [],
   "metadata": {}
  },
  {
   "cell_type": "code",
   "execution_count": 2,
   "source": [
    "# Instance variables\r\n",
    "image_dir_p    = \"archive/Images\"\r\n",
    "image_file_ext = r\".tif\"\r\n",
    "image_xml_ext  = r\".xml\"\r\n",
    "masks_dir_p    = \"archive/Masks\"\r\n",
    "masks_file_ext = r\".TIF\"\r\n",
    "split_ratio    = [60,20,20]\r\n",
    "train_dir_p    = \"datasets-binary/train\"\r\n",
    "val_dir_p      = \"datasets-binary/validation\"\r\n",
    "test_dir_p     = \"datasets-binary/test\""
   ],
   "outputs": [],
   "metadata": {}
  },
  {
   "cell_type": "markdown",
   "source": [
    "### Read folders"
   ],
   "metadata": {}
  },
  {
   "cell_type": "code",
   "execution_count": 3,
   "source": [
    "images_list     = [os.path.join(image_dir_p, _) for _ in os.listdir(image_dir_p) if _.endswith(image_file_ext)]\r\n",
    "# images_xml_list = [os.path.join(image_dir_p, _) for _ in os.listdir(image_dir_p) if _.endswith(image_xml_ext)]\r\n",
    "masks_list      = [os.path.join(masks_dir_p, _) for _ in os.listdir(masks_dir_p) if _.endswith(masks_file_ext)]\r\n",
    "\r\n",
    "# Split validation\r\n",
    "total_items = len(images_list)\r\n",
    "\r\n",
    "no_of_train_items = math.ceil(total_items * split_ratio[0] / 100)\r\n",
    "no_of_val_items   = math.ceil(total_items * split_ratio[1] / 100)\r\n",
    "no_of_test_items  = total_items * split_ratio[2] / 100\r\n",
    "\r\n",
    "print(no_of_train_items, no_of_val_items, no_of_test_items)"
   ],
   "outputs": [
    {
     "output_type": "stream",
     "name": "stdout",
     "text": [
      "35 12 11.6\n"
     ]
    }
   ],
   "metadata": {}
  },
  {
   "cell_type": "code",
   "execution_count": 4,
   "source": [
    "# Remove exisiting directories and create new directories\r\n",
    "shutil.rmtree(train_dir_p, ignore_errors=True)\r\n",
    "shutil.rmtree(val_dir_p, ignore_errors=True)\r\n",
    "shutil.rmtree(test_dir_p, ignore_errors=True)\r\n",
    "os.mkdir(train_dir_p)\r\n",
    "os.mkdir(val_dir_p)\r\n",
    "os.mkdir(test_dir_p)"
   ],
   "outputs": [],
   "metadata": {}
  },
  {
   "cell_type": "markdown",
   "source": [
    "### Split Training images and masks set"
   ],
   "metadata": {}
  },
  {
   "cell_type": "code",
   "execution_count": 5,
   "source": [
    "for i in range( 0, no_of_train_items):\r\n",
    "    #xml_fn   = os.path.split(images_xml_list[i])[1]\r\n",
    "    \r\n",
    "    image_fn = os.path.split(images_list[i])[1]\r\n",
    "    image_dir = train_dir_p + \"/images/\"\r\n",
    "    if not os.path.exists(image_dir):\r\n",
    "        os.makedirs(image_dir)\r\n",
    "    image_dest_p = image_dir + image_fn\r\n",
    "    \r\n",
    "    mask_fn  = os.path.split(masks_list[i])[1]\r\n",
    "    mask_dir = train_dir_p + \"/masks/\"\r\n",
    "    if not os.path.exists(mask_dir):\r\n",
    "        os.makedirs(mask_dir)   \r\n",
    "    mask_dest_p = mask_dir + mask_fn\r\n",
    "    \r\n",
    "    shutil.copyfile(images_list[i], image_dest_p)\r\n",
    "    # shutil.copyfile(images_xml_list[i], xml_dest_p)\r\n",
    "    shutil.copyfile(masks_list[i], mask_dest_p)\r\n",
    "    \r\n",
    "train_list = [os.path.join(image_dir, _) for _ in os.listdir(image_dir) if _.endswith(image_file_ext)]\r\n",
    "for index,item in enumerate(train_list):\r\n",
    "    print(index + 1, item)"
   ],
   "outputs": [
    {
     "output_type": "stream",
     "name": "stdout",
     "text": [
      "1 datasets-binary/train/images/ytma10_010704_benign1_ccd.tif\n",
      "2 datasets-binary/train/images/ytma10_010704_benign2_ccd.tif\n",
      "3 datasets-binary/train/images/ytma10_010704_benign3_ccd.tif\n",
      "4 datasets-binary/train/images/ytma10_010704_malignant1_ccd.tif\n",
      "5 datasets-binary/train/images/ytma10_010704_malignant2_ccd.tif\n",
      "6 datasets-binary/train/images/ytma10_010704_malignant3_ccd.tif\n",
      "7 datasets-binary/train/images/ytma12_010804_benign1_ccd.tif\n",
      "8 datasets-binary/train/images/ytma12_010804_benign2_ccd.tif\n",
      "9 datasets-binary/train/images/ytma12_010804_benign3_ccd.tif\n",
      "10 datasets-binary/train/images/ytma12_010804_malignant1_ccd.tif\n",
      "11 datasets-binary/train/images/ytma12_010804_malignant2_ccd.tif\n",
      "12 datasets-binary/train/images/ytma12_010804_malignant3_ccd.tif\n",
      "13 datasets-binary/train/images/ytma23_022103_benign1_ccd.tif\n",
      "14 datasets-binary/train/images/ytma23_022103_benign2_ccd.tif\n",
      "15 datasets-binary/train/images/ytma23_022103_benign3_ccd.tif\n",
      "16 datasets-binary/train/images/ytma23_022103_malignant1_ccd.tif\n",
      "17 datasets-binary/train/images/ytma23_022103_malignant2_ccd.tif\n",
      "18 datasets-binary/train/images/ytma23_022103_malignant3_ccd.tif\n",
      "19 datasets-binary/train/images/ytma49_042003_benign1_ccd.tif\n",
      "20 datasets-binary/train/images/ytma49_042003_benign2_ccd.tif\n",
      "21 datasets-binary/train/images/ytma49_042003_benign3_ccd.tif\n",
      "22 datasets-binary/train/images/ytma49_042003_malignant1_ccd.tif\n",
      "23 datasets-binary/train/images/ytma49_042003_malignant2_ccd.tif\n",
      "24 datasets-binary/train/images/ytma49_042003_malignant3_ccd.tif\n",
      "25 datasets-binary/train/images/ytma49_042203_benign1_ccd.tif\n",
      "26 datasets-binary/train/images/ytma49_042203_benign2_ccd.tif\n",
      "27 datasets-binary/train/images/ytma49_042203_benign3_ccd.tif\n",
      "28 datasets-binary/train/images/ytma49_042203_malignant1_ccd.tif\n",
      "29 datasets-binary/train/images/ytma49_042203_malignant2_ccd.tif\n",
      "30 datasets-binary/train/images/ytma49_042203_malignant3_ccd.tif\n",
      "31 datasets-binary/train/images/ytma49_042403_benign1_ccd.tif\n",
      "32 datasets-binary/train/images/ytma49_042403_benign2_ccd.tif\n",
      "33 datasets-binary/train/images/ytma49_042403_benign3_ccd.tif\n",
      "34 datasets-binary/train/images/ytma49_042403_malignant1_ccd.tif\n",
      "35 datasets-binary/train/images/ytma49_042403_malignant2_ccd.tif\n"
     ]
    }
   ],
   "metadata": {
    "scrolled": true
   }
  },
  {
   "cell_type": "markdown",
   "source": [
    "### Split Validation images and masks set"
   ],
   "metadata": {}
  },
  {
   "cell_type": "code",
   "execution_count": 6,
   "source": [
    "for i in range( no_of_train_items, no_of_train_items + no_of_val_items):\r\n",
    "    #xml_fn   = os.path.split(images_xml_list[i])[1]\r\n",
    "    \r\n",
    "    image_fn = os.path.split(images_list[i])[1]\r\n",
    "    image_dir = val_dir_p + \"/images/\"\r\n",
    "    if not os.path.exists(image_dir):\r\n",
    "        os.makedirs(image_dir)\r\n",
    "    image_dest_p = image_dir + image_fn\r\n",
    "    \r\n",
    "    mask_fn  = os.path.split(masks_list[i])[1]\r\n",
    "    mask_dir = val_dir_p + \"/masks/\"\r\n",
    "    if not os.path.exists(mask_dir):\r\n",
    "        os.makedirs(mask_dir)   \r\n",
    "    mask_dest_p = mask_dir + mask_fn\r\n",
    "    \r\n",
    "    shutil.copyfile(images_list[i], image_dest_p)\r\n",
    "    # shutil.copyfile(images_xml_list[i], xml_dest_p)\r\n",
    "    shutil.copyfile(masks_list[i], mask_dest_p)\r\n",
    "    \r\n",
    "train_list = [os.path.join(image_dir, _) for _ in os.listdir(image_dir) if _.endswith(image_file_ext)]\r\n",
    "for index,item in enumerate(train_list):\r\n",
    "    print(index + 1, item)"
   ],
   "outputs": [
    {
     "output_type": "stream",
     "name": "stdout",
     "text": [
      "1 datasets-binary/validation/images/ytma49_042403_malignant3_ccd.tif\n",
      "2 datasets-binary/validation/images/ytma49_072303_benign1_ccd.tif\n",
      "3 datasets-binary/validation/images/ytma49_072303_benign2_ccd.tif\n",
      "4 datasets-binary/validation/images/ytma49_072303_malignant1_ccd.tif\n",
      "5 datasets-binary/validation/images/ytma49_072303_malignant2_ccd.tif\n",
      "6 datasets-binary/validation/images/ytma49_111003_benign1_ccd.tif\n",
      "7 datasets-binary/validation/images/ytma49_111003_benign2_ccd.tif\n",
      "8 datasets-binary/validation/images/ytma49_111003_benign3_ccd.tif\n",
      "9 datasets-binary/validation/images/ytma49_111003_malignant1_ccd.tif\n",
      "10 datasets-binary/validation/images/ytma49_111003_malignant2_ccd.tif\n",
      "11 datasets-binary/validation/images/ytma49_111003_malignant3_ccd.tif\n",
      "12 datasets-binary/validation/images/ytma49_111303_benign1_ccd.tif\n"
     ]
    }
   ],
   "metadata": {}
  },
  {
   "cell_type": "markdown",
   "source": [
    "### Split Testing images and masks set"
   ],
   "metadata": {}
  },
  {
   "cell_type": "code",
   "execution_count": 7,
   "source": [
    "for i in range( no_of_train_items + no_of_val_items, total_items):\r\n",
    "    #xml_fn   = os.path.split(images_xml_list[i])[1]\r\n",
    "    \r\n",
    "    image_fn = os.path.split(images_list[i])[1]\r\n",
    "    image_dir = test_dir_p + \"/images/\"\r\n",
    "    if not os.path.exists(image_dir):\r\n",
    "        os.makedirs(image_dir)\r\n",
    "    image_dest_p = image_dir + image_fn\r\n",
    "    \r\n",
    "    mask_fn  = os.path.split(masks_list[i])[1]\r\n",
    "    mask_dir = test_dir_p + \"/masks/\"\r\n",
    "    if not os.path.exists(mask_dir):\r\n",
    "        os.makedirs(mask_dir)   \r\n",
    "    mask_dest_p = mask_dir + mask_fn\r\n",
    "    \r\n",
    "    shutil.copyfile(images_list[i], image_dest_p)\r\n",
    "    # shutil.copyfile(images_xml_list[i], xml_dest_p)\r\n",
    "    shutil.copyfile(masks_list[i], mask_dest_p)\r\n",
    "    \r\n",
    "train_list = [os.path.join(image_dir, _) for _ in os.listdir(image_dir) if _.endswith(image_file_ext)]\r\n",
    "for index,item in enumerate(train_list):\r\n",
    "    print(index + 1, item)"
   ],
   "outputs": [
    {
     "output_type": "stream",
     "name": "stdout",
     "text": [
      "1 datasets-binary/test/images/ytma49_111303_benign2_ccd.tif\n",
      "2 datasets-binary/test/images/ytma49_111303_benign3_ccd.tif\n",
      "3 datasets-binary/test/images/ytma49_111303_malignant1_ccd.tif\n",
      "4 datasets-binary/test/images/ytma49_111303_malignant2_ccd.tif\n",
      "5 datasets-binary/test/images/ytma49_111303_malignant3_ccd.tif\n",
      "6 datasets-binary/test/images/ytma55_030603_benign1_ccd.tif\n",
      "7 datasets-binary/test/images/ytma55_030603_benign2_ccd.tif\n",
      "8 datasets-binary/test/images/ytma55_030603_benign3_ccd.tif\n",
      "9 datasets-binary/test/images/ytma55_030603_benign4_ccd.tif\n",
      "10 datasets-binary/test/images/ytma55_030603_benign5_ccd.tif\n",
      "11 datasets-binary/test/images/ytma55_030603_benign6_ccd.tif\n"
     ]
    }
   ],
   "metadata": {}
  }
 ],
 "metadata": {
  "kernelspec": {
   "display_name": "Python 3",
   "language": "python",
   "name": "python3"
  },
  "language_info": {
   "codemirror_mode": {
    "name": "ipython",
    "version": 3
   },
   "file_extension": ".py",
   "mimetype": "text/x-python",
   "name": "python",
   "nbconvert_exporter": "python",
   "pygments_lexer": "ipython3",
   "version": "3.7.11"
  }
 },
 "nbformat": 4,
 "nbformat_minor": 4
}